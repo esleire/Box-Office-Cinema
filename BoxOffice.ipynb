{
  "nbformat": 4,
  "nbformat_minor": 0,
  "metadata": {
    "colab": {
      "name": "BoxOffice.ipynb",
      "provenance": [],
      "collapsed_sections": [],
      "toc_visible": true,
      "include_colab_link": true
    },
    "kernelspec": {
      "name": "python3",
      "display_name": "Python 3"
    },
    "language_info": {
      "name": "python"
    }
  },
  "cells": [
    {
      "cell_type": "markdown",
      "metadata": {
        "id": "view-in-github",
        "colab_type": "text"
      },
      "source": [
        "<a href=\"https://colab.research.google.com/github/esleire/Box-Office-Cinema/blob/master/BoxOffice.ipynb\" target=\"_parent\"><img src=\"https://colab.research.google.com/assets/colab-badge.svg\" alt=\"Open In Colab\"/></a>"
      ]
    },
    {
      "cell_type": "code",
      "metadata": {
        "colab": {
          "base_uri": "https://localhost:8080/"
        },
        "id": "hYmQAe6yRSTm",
        "outputId": "fbdbbee8-2211-46cd-b13f-e6b67f4f3af4"
      },
      "source": [
        "from google.colab import drive\n",
        "drive.mount('/content/drive')"
      ],
      "execution_count": null,
      "outputs": [
        {
          "output_type": "stream",
          "name": "stdout",
          "text": [
            "Mounted at /content/drive\n"
          ]
        }
      ]
    },
    {
      "cell_type": "code",
      "metadata": {
        "id": "EVv-_8afeVTL"
      },
      "source": [
        "import pandas as pd\n",
        "train_ = pd.read_csv('drive/MyDrive/ML2/train.csv')\n",
        "test_ = pd.read_csv('drive/MyDrive/ML2/test.csv')\n",
        "sampleSubmission = pd.read_csv('drive/MyDrive/ML2/sample_submission.csv')\n",
        "\n",
        "train = train_.copy(); \n",
        "test = test_.copy(); \n",
        "test_id = test['id'].copy()"
      ],
      "execution_count": null,
      "outputs": []
    },
    {
      "cell_type": "code",
      "metadata": {
        "colab": {
          "base_uri": "https://localhost:8080/",
          "height": 626
        },
        "id": "Uotff6hXhf43",
        "outputId": "7fbbf294-bae4-4082-bdf9-1e2ddc52365a"
      },
      "source": [
        "train.head()"
      ],
      "execution_count": null,
      "outputs": [
        {
          "output_type": "execute_result",
          "data": {
            "text/html": [
              "<div>\n",
              "<style scoped>\n",
              "    .dataframe tbody tr th:only-of-type {\n",
              "        vertical-align: middle;\n",
              "    }\n",
              "\n",
              "    .dataframe tbody tr th {\n",
              "        vertical-align: top;\n",
              "    }\n",
              "\n",
              "    .dataframe thead th {\n",
              "        text-align: right;\n",
              "    }\n",
              "</style>\n",
              "<table border=\"1\" class=\"dataframe\">\n",
              "  <thead>\n",
              "    <tr style=\"text-align: right;\">\n",
              "      <th></th>\n",
              "      <th>id</th>\n",
              "      <th>belongs_to_collection</th>\n",
              "      <th>budget</th>\n",
              "      <th>genres</th>\n",
              "      <th>homepage</th>\n",
              "      <th>imdb_id</th>\n",
              "      <th>original_language</th>\n",
              "      <th>original_title</th>\n",
              "      <th>overview</th>\n",
              "      <th>popularity</th>\n",
              "      <th>poster_path</th>\n",
              "      <th>production_companies</th>\n",
              "      <th>production_countries</th>\n",
              "      <th>release_date</th>\n",
              "      <th>runtime</th>\n",
              "      <th>spoken_languages</th>\n",
              "      <th>status</th>\n",
              "      <th>tagline</th>\n",
              "      <th>title</th>\n",
              "      <th>Keywords</th>\n",
              "      <th>cast</th>\n",
              "      <th>crew</th>\n",
              "      <th>revenue</th>\n",
              "    </tr>\n",
              "  </thead>\n",
              "  <tbody>\n",
              "    <tr>\n",
              "      <th>0</th>\n",
              "      <td>1</td>\n",
              "      <td>[{'id': 313576, 'name': 'Hot Tub Time Machine ...</td>\n",
              "      <td>14000000</td>\n",
              "      <td>[{'id': 35, 'name': 'Comedy'}]</td>\n",
              "      <td>NaN</td>\n",
              "      <td>tt2637294</td>\n",
              "      <td>en</td>\n",
              "      <td>Hot Tub Time Machine 2</td>\n",
              "      <td>When Lou, who has become the \"father of the In...</td>\n",
              "      <td>6.575393</td>\n",
              "      <td>/tQtWuwvMf0hCc2QR2tkolwl7c3c.jpg</td>\n",
              "      <td>[{'name': 'Paramount Pictures', 'id': 4}, {'na...</td>\n",
              "      <td>[{'iso_3166_1': 'US', 'name': 'United States o...</td>\n",
              "      <td>2/20/15</td>\n",
              "      <td>93.0</td>\n",
              "      <td>[{'iso_639_1': 'en', 'name': 'English'}]</td>\n",
              "      <td>Released</td>\n",
              "      <td>The Laws of Space and Time are About to be Vio...</td>\n",
              "      <td>Hot Tub Time Machine 2</td>\n",
              "      <td>[{'id': 4379, 'name': 'time travel'}, {'id': 9...</td>\n",
              "      <td>[{'cast_id': 4, 'character': 'Lou', 'credit_id...</td>\n",
              "      <td>[{'credit_id': '59ac067c92514107af02c8c8', 'de...</td>\n",
              "      <td>12314651</td>\n",
              "    </tr>\n",
              "    <tr>\n",
              "      <th>1</th>\n",
              "      <td>2</td>\n",
              "      <td>[{'id': 107674, 'name': 'The Princess Diaries ...</td>\n",
              "      <td>40000000</td>\n",
              "      <td>[{'id': 35, 'name': 'Comedy'}, {'id': 18, 'nam...</td>\n",
              "      <td>NaN</td>\n",
              "      <td>tt0368933</td>\n",
              "      <td>en</td>\n",
              "      <td>The Princess Diaries 2: Royal Engagement</td>\n",
              "      <td>Mia Thermopolis is now a college graduate and ...</td>\n",
              "      <td>8.248895</td>\n",
              "      <td>/w9Z7A0GHEhIp7etpj0vyKOeU1Wx.jpg</td>\n",
              "      <td>[{'name': 'Walt Disney Pictures', 'id': 2}]</td>\n",
              "      <td>[{'iso_3166_1': 'US', 'name': 'United States o...</td>\n",
              "      <td>08-06-04</td>\n",
              "      <td>113.0</td>\n",
              "      <td>[{'iso_639_1': 'en', 'name': 'English'}]</td>\n",
              "      <td>Released</td>\n",
              "      <td>It can take a lifetime to find true love; she'...</td>\n",
              "      <td>The Princess Diaries 2: Royal Engagement</td>\n",
              "      <td>[{'id': 2505, 'name': 'coronation'}, {'id': 42...</td>\n",
              "      <td>[{'cast_id': 1, 'character': 'Mia Thermopolis'...</td>\n",
              "      <td>[{'credit_id': '52fe43fe9251416c7502563d', 'de...</td>\n",
              "      <td>95149435</td>\n",
              "    </tr>\n",
              "    <tr>\n",
              "      <th>2</th>\n",
              "      <td>3</td>\n",
              "      <td>NaN</td>\n",
              "      <td>3300000</td>\n",
              "      <td>[{'id': 18, 'name': 'Drama'}]</td>\n",
              "      <td>http://sonyclassics.com/whiplash/</td>\n",
              "      <td>tt2582802</td>\n",
              "      <td>en</td>\n",
              "      <td>Whiplash</td>\n",
              "      <td>Under the direction of a ruthless instructor, ...</td>\n",
              "      <td>64.299990</td>\n",
              "      <td>/lIv1QinFqz4dlp5U4lQ6HaiskOZ.jpg</td>\n",
              "      <td>[{'name': 'Bold Films', 'id': 2266}, {'name': ...</td>\n",
              "      <td>[{'iso_3166_1': 'US', 'name': 'United States o...</td>\n",
              "      <td>10-10-14</td>\n",
              "      <td>105.0</td>\n",
              "      <td>[{'iso_639_1': 'en', 'name': 'English'}]</td>\n",
              "      <td>Released</td>\n",
              "      <td>The road to greatness can take you to the edge.</td>\n",
              "      <td>Whiplash</td>\n",
              "      <td>[{'id': 1416, 'name': 'jazz'}, {'id': 1523, 'n...</td>\n",
              "      <td>[{'cast_id': 5, 'character': 'Andrew Neimann',...</td>\n",
              "      <td>[{'credit_id': '54d5356ec3a3683ba0000039', 'de...</td>\n",
              "      <td>13092000</td>\n",
              "    </tr>\n",
              "    <tr>\n",
              "      <th>3</th>\n",
              "      <td>4</td>\n",
              "      <td>NaN</td>\n",
              "      <td>1200000</td>\n",
              "      <td>[{'id': 53, 'name': 'Thriller'}, {'id': 18, 'n...</td>\n",
              "      <td>http://kahaanithefilm.com/</td>\n",
              "      <td>tt1821480</td>\n",
              "      <td>hi</td>\n",
              "      <td>Kahaani</td>\n",
              "      <td>Vidya Bagchi (Vidya Balan) arrives in Kolkata ...</td>\n",
              "      <td>3.174936</td>\n",
              "      <td>/aTXRaPrWSinhcmCrcfJK17urp3F.jpg</td>\n",
              "      <td>NaN</td>\n",
              "      <td>[{'iso_3166_1': 'IN', 'name': 'India'}]</td>\n",
              "      <td>03-09-12</td>\n",
              "      <td>122.0</td>\n",
              "      <td>[{'iso_639_1': 'en', 'name': 'English'}, {'iso...</td>\n",
              "      <td>Released</td>\n",
              "      <td>NaN</td>\n",
              "      <td>Kahaani</td>\n",
              "      <td>[{'id': 10092, 'name': 'mystery'}, {'id': 1054...</td>\n",
              "      <td>[{'cast_id': 1, 'character': 'Vidya Bagchi', '...</td>\n",
              "      <td>[{'credit_id': '52fe48779251416c9108d6eb', 'de...</td>\n",
              "      <td>16000000</td>\n",
              "    </tr>\n",
              "    <tr>\n",
              "      <th>4</th>\n",
              "      <td>5</td>\n",
              "      <td>NaN</td>\n",
              "      <td>0</td>\n",
              "      <td>[{'id': 28, 'name': 'Action'}, {'id': 53, 'nam...</td>\n",
              "      <td>NaN</td>\n",
              "      <td>tt1380152</td>\n",
              "      <td>ko</td>\n",
              "      <td>마린보이</td>\n",
              "      <td>Marine Boy is the story of a former national s...</td>\n",
              "      <td>1.148070</td>\n",
              "      <td>/m22s7zvkVFDU9ir56PiiqIEWFdT.jpg</td>\n",
              "      <td>NaN</td>\n",
              "      <td>[{'iso_3166_1': 'KR', 'name': 'South Korea'}]</td>\n",
              "      <td>02-05-09</td>\n",
              "      <td>118.0</td>\n",
              "      <td>[{'iso_639_1': 'ko', 'name': '한국어/조선말'}]</td>\n",
              "      <td>Released</td>\n",
              "      <td>NaN</td>\n",
              "      <td>Marine Boy</td>\n",
              "      <td>NaN</td>\n",
              "      <td>[{'cast_id': 3, 'character': 'Chun-soo', 'cred...</td>\n",
              "      <td>[{'credit_id': '52fe464b9251416c75073b43', 'de...</td>\n",
              "      <td>3923970</td>\n",
              "    </tr>\n",
              "  </tbody>\n",
              "</table>\n",
              "</div>"
            ],
            "text/plain": [
              "   id  ...   revenue\n",
              "0   1  ...  12314651\n",
              "1   2  ...  95149435\n",
              "2   3  ...  13092000\n",
              "3   4  ...  16000000\n",
              "4   5  ...   3923970\n",
              "\n",
              "[5 rows x 23 columns]"
            ]
          },
          "metadata": {},
          "execution_count": 3
        }
      ]
    },
    {
      "cell_type": "code",
      "metadata": {
        "colab": {
          "base_uri": "https://localhost:8080/",
          "height": 610
        },
        "id": "a6kphhL8iqMN",
        "outputId": "1943ffc1-c35f-488f-e57a-127248e93119"
      },
      "source": [
        "test.head() "
      ],
      "execution_count": null,
      "outputs": [
        {
          "output_type": "execute_result",
          "data": {
            "text/html": [
              "<div>\n",
              "<style scoped>\n",
              "    .dataframe tbody tr th:only-of-type {\n",
              "        vertical-align: middle;\n",
              "    }\n",
              "\n",
              "    .dataframe tbody tr th {\n",
              "        vertical-align: top;\n",
              "    }\n",
              "\n",
              "    .dataframe thead th {\n",
              "        text-align: right;\n",
              "    }\n",
              "</style>\n",
              "<table border=\"1\" class=\"dataframe\">\n",
              "  <thead>\n",
              "    <tr style=\"text-align: right;\">\n",
              "      <th></th>\n",
              "      <th>id</th>\n",
              "      <th>belongs_to_collection</th>\n",
              "      <th>budget</th>\n",
              "      <th>genres</th>\n",
              "      <th>homepage</th>\n",
              "      <th>imdb_id</th>\n",
              "      <th>original_language</th>\n",
              "      <th>original_title</th>\n",
              "      <th>overview</th>\n",
              "      <th>popularity</th>\n",
              "      <th>poster_path</th>\n",
              "      <th>production_companies</th>\n",
              "      <th>production_countries</th>\n",
              "      <th>release_date</th>\n",
              "      <th>runtime</th>\n",
              "      <th>spoken_languages</th>\n",
              "      <th>status</th>\n",
              "      <th>tagline</th>\n",
              "      <th>title</th>\n",
              "      <th>Keywords</th>\n",
              "      <th>cast</th>\n",
              "      <th>crew</th>\n",
              "    </tr>\n",
              "  </thead>\n",
              "  <tbody>\n",
              "    <tr>\n",
              "      <th>0</th>\n",
              "      <td>3001</td>\n",
              "      <td>[{'id': 34055, 'name': 'Pokémon Collection', '...</td>\n",
              "      <td>0</td>\n",
              "      <td>[{'id': 12, 'name': 'Adventure'}, {'id': 16, '...</td>\n",
              "      <td>http://www.pokemon.com/us/movies/movie-pokemon...</td>\n",
              "      <td>tt1226251</td>\n",
              "      <td>ja</td>\n",
              "      <td>ディアルガVSパルキアVSダークライ</td>\n",
              "      <td>Ash and friends (this time accompanied by newc...</td>\n",
              "      <td>3.851534</td>\n",
              "      <td>/tnftmLMemPLduW6MRyZE0ZUD19z.jpg</td>\n",
              "      <td>NaN</td>\n",
              "      <td>[{'iso_3166_1': 'JP', 'name': 'Japan'}, {'iso_...</td>\n",
              "      <td>7/14/07</td>\n",
              "      <td>90.0</td>\n",
              "      <td>[{'iso_639_1': 'en', 'name': 'English'}, {'iso...</td>\n",
              "      <td>Released</td>\n",
              "      <td>Somewhere Between Time &amp; Space... A Legend Is ...</td>\n",
              "      <td>Pokémon: The Rise of Darkrai</td>\n",
              "      <td>[{'id': 11451, 'name': 'pok√©mon'}, {'id': 115...</td>\n",
              "      <td>[{'cast_id': 3, 'character': 'Tonio', 'credit_...</td>\n",
              "      <td>[{'credit_id': '52fe44e7c3a368484e03d683', 'de...</td>\n",
              "    </tr>\n",
              "    <tr>\n",
              "      <th>1</th>\n",
              "      <td>3002</td>\n",
              "      <td>NaN</td>\n",
              "      <td>88000</td>\n",
              "      <td>[{'id': 27, 'name': 'Horror'}, {'id': 878, 'na...</td>\n",
              "      <td>NaN</td>\n",
              "      <td>tt0051380</td>\n",
              "      <td>en</td>\n",
              "      <td>Attack of the 50 Foot Woman</td>\n",
              "      <td>When an abused wife grows to giant size becaus...</td>\n",
              "      <td>3.559789</td>\n",
              "      <td>/9MgBNBqlH1sG4yG2u4XkwI5CoJa.jpg</td>\n",
              "      <td>[{'name': 'Woolner Brothers Pictures Inc.', 'i...</td>\n",
              "      <td>[{'iso_3166_1': 'US', 'name': 'United States o...</td>\n",
              "      <td>5/19/58</td>\n",
              "      <td>65.0</td>\n",
              "      <td>[{'iso_639_1': 'en', 'name': 'English'}]</td>\n",
              "      <td>Released</td>\n",
              "      <td>A titanic beauty spreads a macabre wave of hor...</td>\n",
              "      <td>Attack of the 50 Foot Woman</td>\n",
              "      <td>[{'id': 9748, 'name': 'revenge'}, {'id': 9951,...</td>\n",
              "      <td>[{'cast_id': 2, 'character': 'Nancy Fowler Arc...</td>\n",
              "      <td>[{'credit_id': '55807805c3a3685b1300060b', 'de...</td>\n",
              "    </tr>\n",
              "    <tr>\n",
              "      <th>2</th>\n",
              "      <td>3003</td>\n",
              "      <td>NaN</td>\n",
              "      <td>0</td>\n",
              "      <td>[{'id': 35, 'name': 'Comedy'}, {'id': 10749, '...</td>\n",
              "      <td>NaN</td>\n",
              "      <td>tt0118556</td>\n",
              "      <td>en</td>\n",
              "      <td>Addicted to Love</td>\n",
              "      <td>Good-natured astronomer Sam is devastated when...</td>\n",
              "      <td>8.085194</td>\n",
              "      <td>/ed6nD7h9sbojSWY2qrnDcSvDFko.jpg</td>\n",
              "      <td>[{'name': 'Warner Bros.', 'id': 6194}, {'name'...</td>\n",
              "      <td>[{'iso_3166_1': 'US', 'name': 'United States o...</td>\n",
              "      <td>5/23/97</td>\n",
              "      <td>100.0</td>\n",
              "      <td>[{'iso_639_1': 'en', 'name': 'English'}]</td>\n",
              "      <td>Released</td>\n",
              "      <td>A Comedy About Lost Loves And Last Laughs</td>\n",
              "      <td>Addicted to Love</td>\n",
              "      <td>[{'id': 931, 'name': 'jealousy'}, {'id': 9673,...</td>\n",
              "      <td>[{'cast_id': 11, 'character': 'Maggie', 'credi...</td>\n",
              "      <td>[{'credit_id': '52fe4330c3a36847f8041367', 'de...</td>\n",
              "    </tr>\n",
              "    <tr>\n",
              "      <th>3</th>\n",
              "      <td>3004</td>\n",
              "      <td>NaN</td>\n",
              "      <td>6800000</td>\n",
              "      <td>[{'id': 18, 'name': 'Drama'}, {'id': 10752, 'n...</td>\n",
              "      <td>http://www.sonyclassics.com/incendies/</td>\n",
              "      <td>tt1255953</td>\n",
              "      <td>fr</td>\n",
              "      <td>Incendies</td>\n",
              "      <td>A mother's last wishes send twins Jeanne and S...</td>\n",
              "      <td>8.596012</td>\n",
              "      <td>/sEUG3qjxwHjxkzuO7plrRHhOZUH.jpg</td>\n",
              "      <td>[{'name': 'TS Productions', 'id': 313}, {'name...</td>\n",
              "      <td>[{'iso_3166_1': 'CA', 'name': 'Canada'}, {'iso...</td>\n",
              "      <td>09-04-10</td>\n",
              "      <td>130.0</td>\n",
              "      <td>[{'iso_639_1': 'fr', 'name': 'Français'}, {'is...</td>\n",
              "      <td>Released</td>\n",
              "      <td>The search began at the opening of their mothe...</td>\n",
              "      <td>Incendies</td>\n",
              "      <td>[{'id': 378, 'name': 'prison'}, {'id': 539, 'n...</td>\n",
              "      <td>[{'cast_id': 6, 'character': 'Nawal', 'credit_...</td>\n",
              "      <td>[{'credit_id': '56478092c3a36826140043af', 'de...</td>\n",
              "    </tr>\n",
              "    <tr>\n",
              "      <th>4</th>\n",
              "      <td>3005</td>\n",
              "      <td>NaN</td>\n",
              "      <td>2000000</td>\n",
              "      <td>[{'id': 36, 'name': 'History'}, {'id': 99, 'na...</td>\n",
              "      <td>NaN</td>\n",
              "      <td>tt0418753</td>\n",
              "      <td>en</td>\n",
              "      <td>Inside Deep Throat</td>\n",
              "      <td>In 1972, a seemingly typical shoestring budget...</td>\n",
              "      <td>3.217680</td>\n",
              "      <td>/n4WC3zbelz6SG7rhkWbf8m9pMHB.jpg</td>\n",
              "      <td>NaN</td>\n",
              "      <td>[{'iso_3166_1': 'US', 'name': 'United States o...</td>\n",
              "      <td>02-11-05</td>\n",
              "      <td>92.0</td>\n",
              "      <td>[{'iso_639_1': 'en', 'name': 'English'}]</td>\n",
              "      <td>Released</td>\n",
              "      <td>It was filmed in 6 days for 25 thousand dollar...</td>\n",
              "      <td>Inside Deep Throat</td>\n",
              "      <td>[{'id': 279, 'name': 'usa'}, {'id': 1228, 'nam...</td>\n",
              "      <td>[{'cast_id': 1, 'character': 'Narrator (voice)...</td>\n",
              "      <td>[{'credit_id': '52fe44ce9251416c75041967', 'de...</td>\n",
              "    </tr>\n",
              "  </tbody>\n",
              "</table>\n",
              "</div>"
            ],
            "text/plain": [
              "     id  ...                                               crew\n",
              "0  3001  ...  [{'credit_id': '52fe44e7c3a368484e03d683', 'de...\n",
              "1  3002  ...  [{'credit_id': '55807805c3a3685b1300060b', 'de...\n",
              "2  3003  ...  [{'credit_id': '52fe4330c3a36847f8041367', 'de...\n",
              "3  3004  ...  [{'credit_id': '56478092c3a36826140043af', 'de...\n",
              "4  3005  ...  [{'credit_id': '52fe44ce9251416c75041967', 'de...\n",
              "\n",
              "[5 rows x 22 columns]"
            ]
          },
          "metadata": {},
          "execution_count": 4
        }
      ]
    },
    {
      "cell_type": "code",
      "metadata": {
        "colab": {
          "base_uri": "https://localhost:8080/"
        },
        "id": "SYNBrJMNjEi0",
        "outputId": "6e0197bc-5267-4c4c-b3ad-c5de9d4a7c7c"
      },
      "source": [
        "train.info()"
      ],
      "execution_count": null,
      "outputs": [
        {
          "output_type": "stream",
          "name": "stdout",
          "text": [
            "<class 'pandas.core.frame.DataFrame'>\n",
            "RangeIndex: 3000 entries, 0 to 2999\n",
            "Data columns (total 23 columns):\n",
            " #   Column                 Non-Null Count  Dtype  \n",
            "---  ------                 --------------  -----  \n",
            " 0   id                     3000 non-null   int64  \n",
            " 1   belongs_to_collection  604 non-null    object \n",
            " 2   budget                 3000 non-null   int64  \n",
            " 3   genres                 2993 non-null   object \n",
            " 4   homepage               946 non-null    object \n",
            " 5   imdb_id                3000 non-null   object \n",
            " 6   original_language      3000 non-null   object \n",
            " 7   original_title         3000 non-null   object \n",
            " 8   overview               2992 non-null   object \n",
            " 9   popularity             3000 non-null   float64\n",
            " 10  poster_path            2999 non-null   object \n",
            " 11  production_companies   2844 non-null   object \n",
            " 12  production_countries   2945 non-null   object \n",
            " 13  release_date           3000 non-null   object \n",
            " 14  runtime                2998 non-null   float64\n",
            " 15  spoken_languages       2980 non-null   object \n",
            " 16  status                 3000 non-null   object \n",
            " 17  tagline                2403 non-null   object \n",
            " 18  title                  3000 non-null   object \n",
            " 19  Keywords               2724 non-null   object \n",
            " 20  cast                   2987 non-null   object \n",
            " 21  crew                   2984 non-null   object \n",
            " 22  revenue                3000 non-null   int64  \n",
            "dtypes: float64(2), int64(3), object(18)\n",
            "memory usage: 539.2+ KB\n"
          ]
        }
      ]
    },
    {
      "cell_type": "code",
      "metadata": {
        "id": "QKyuV7ipJjR7",
        "colab": {
          "base_uri": "https://localhost:8080/"
        },
        "outputId": "325e7c92-791a-4628-a89d-197950f3bd86"
      },
      "source": [
        "test.info()"
      ],
      "execution_count": null,
      "outputs": [
        {
          "output_type": "stream",
          "name": "stdout",
          "text": [
            "<class 'pandas.core.frame.DataFrame'>\n",
            "RangeIndex: 4398 entries, 0 to 4397\n",
            "Data columns (total 22 columns):\n",
            " #   Column                 Non-Null Count  Dtype  \n",
            "---  ------                 --------------  -----  \n",
            " 0   id                     4398 non-null   int64  \n",
            " 1   belongs_to_collection  877 non-null    object \n",
            " 2   budget                 4398 non-null   int64  \n",
            " 3   genres                 4382 non-null   object \n",
            " 4   homepage               1420 non-null   object \n",
            " 5   imdb_id                4398 non-null   object \n",
            " 6   original_language      4398 non-null   object \n",
            " 7   original_title         4398 non-null   object \n",
            " 8   overview               4384 non-null   object \n",
            " 9   popularity             4398 non-null   float64\n",
            " 10  poster_path            4397 non-null   object \n",
            " 11  production_companies   4140 non-null   object \n",
            " 12  production_countries   4296 non-null   object \n",
            " 13  release_date           4397 non-null   object \n",
            " 14  runtime                4394 non-null   float64\n",
            " 15  spoken_languages       4356 non-null   object \n",
            " 16  status                 4396 non-null   object \n",
            " 17  tagline                3535 non-null   object \n",
            " 18  title                  4395 non-null   object \n",
            " 19  Keywords               4005 non-null   object \n",
            " 20  cast                   4385 non-null   object \n",
            " 21  crew                   4376 non-null   object \n",
            "dtypes: float64(2), int64(2), object(18)\n",
            "memory usage: 756.0+ KB\n"
          ]
        }
      ]
    },
    {
      "cell_type": "code",
      "metadata": {
        "id": "n3cX7oTL0RNC"
      },
      "source": [
        "# !pip install pycaret"
      ],
      "execution_count": null,
      "outputs": []
    },
    {
      "cell_type": "code",
      "metadata": {
        "id": "XRFSjKu4S5wl"
      },
      "source": [
        "#from pycaret.classification import *\n",
        "#grid = pycaret.setup(data=train, target=df.columns[-1], html=False, silent=True, verbose=False)"
      ],
      "execution_count": null,
      "outputs": []
    },
    {
      "cell_type": "markdown",
      "metadata": {
        "id": "tM9jCVuELZgE"
      },
      "source": [
        "# Data Cleaning\n",
        "\n"
      ]
    },
    {
      "cell_type": "markdown",
      "metadata": {
        "id": "KwvPmcOuOrUH"
      },
      "source": [
        "First we plot the popularity of the movies against revenue. As we see it, it doesn't seem to be very relevant, but we include it in our set for now. "
      ]
    },
    {
      "cell_type": "code",
      "metadata": {
        "colab": {
          "base_uri": "https://localhost:8080/",
          "height": 307
        },
        "id": "BTTcPlqaOzz4",
        "outputId": "01da54c9-5ff6-4430-d667-df50f4835acd"
      },
      "source": [
        "train.plot(kind=\"scatter\", x=\"popularity\", y=\"revenue\", alpha=0.2)"
      ],
      "execution_count": null,
      "outputs": [
        {
          "output_type": "execute_result",
          "data": {
            "text/plain": [
              "<matplotlib.axes._subplots.AxesSubplot at 0x7fbb2e783450>"
            ]
          },
          "metadata": {},
          "execution_count": 9
        },
        {
          "output_type": "display_data",
          "data": {
            "image/png": "[encoded data removed]",
            "text/plain": [
              "<Figure size 432x288 with 1 Axes>"
            ]
          },
          "metadata": {
            "needs_background": "light"
          }
        }
      ]
    },
    {
      "cell_type": "markdown",
      "metadata": {
        "id": "B6CxHDjvQytB"
      },
      "source": [
        "We plot the budget against revenue to check if this is relevant, this seems highly relevant as bigger budgets provide bigger revenue. "
      ]
    },
    {
      "cell_type": "code",
      "metadata": {
        "colab": {
          "base_uri": "https://localhost:8080/",
          "height": 307
        },
        "id": "sonzt9v1RRmB",
        "outputId": "97a88234-94ed-4168-cc87-b8533d6d7623"
      },
      "source": [
        "train.plot(kind=\"scatter\", x=\"budget\", y=\"revenue\", alpha=0.2)"
      ],
      "execution_count": null,
      "outputs": [
        {
          "output_type": "execute_result",
          "data": {
            "text/plain": [
              "<matplotlib.axes._subplots.AxesSubplot at 0x7fbb2e6bbf10>"
            ]
          },
          "metadata": {},
          "execution_count": 10
        },
        {
          "output_type": "display_data",
          "data": {
            "image/png": "[encoded data removed]",
            "text/plain": [
              "<Figure size 432x288 with 1 Axes>"
            ]
          },
          "metadata": {
            "needs_background": "light"
          }
        }
      ]
    },
    {
      "cell_type": "code",
      "metadata": {
        "colab": {
          "base_uri": "https://localhost:8080/",
          "height": 307
        },
        "id": "TnQ8yJGgRr_6",
        "outputId": "6e3aa17e-740a-4391-fcb7-841b3960b976"
      },
      "source": [
        "train.plot(kind=\"scatter\", x=\"runtime\", y=\"revenue\", alpha=0.2)"
      ],
      "execution_count": null,
      "outputs": [
        {
          "output_type": "execute_result",
          "data": {
            "text/plain": [
              "<matplotlib.axes._subplots.AxesSubplot at 0x7fbb2e212610>"
            ]
          },
          "metadata": {},
          "execution_count": 11
        },
        {
          "output_type": "display_data",
          "data": {
            "image/png": "[encoded data removed]",
            "text/plain": [
              "<Figure size 432x288 with 1 Axes>"
            ]
          },
          "metadata": {
            "needs_background": "light"
          }
        }
      ]
    },
    {
      "cell_type": "markdown",
      "metadata": {
        "id": "LaFTshZjlANS"
      },
      "source": [
        "Make a new attribute that tells whether a movie's original language is English or not. Then plot that new attribute against revenue and we can clearly see that whether a movie is in English or not is a deciding factor on its success at the box office."
      ]
    },
    {
      "cell_type": "code",
      "metadata": {
        "colab": {
          "base_uri": "https://localhost:8080/",
          "height": 308
        },
        "id": "xFCPDBJjkluE",
        "outputId": "b8300210-4051-4e14-bde5-dfb3c370bd26"
      },
      "source": [
        "train[\"is_english\"] = train[\"original_language\"].apply(lambda x: 1 if x == \"en\" else 0)\n",
        "test[\"is_english\"] = test[\"original_language\"].apply(lambda x: 1 if x == \"en\" else 0)\n",
        "\n",
        "train.plot(kind=\"scatter\", x=\"is_english\", y=\"revenue\", alpha=0.2)"
      ],
      "execution_count": null,
      "outputs": [
        {
          "output_type": "execute_result",
          "data": {
            "text/plain": [
              "<matplotlib.axes._subplots.AxesSubplot at 0x7fbb2e1e8c10>"
            ]
          },
          "metadata": {},
          "execution_count": 12
        },
        {
          "output_type": "display_data",
          "data": {
            "image/png": "[encoded data removed]",
            "text/plain": [
              "<Figure size 432x288 with 1 Axes>"
            ]
          },
          "metadata": {
            "needs_background": "light"
          }
        }
      ]
    },
    {
      "cell_type": "code",
      "metadata": {
        "id": "k-gKbspP0HTB",
        "colab": {
          "base_uri": "https://localhost:8080/"
        },
        "outputId": "75fa5ce0-76ce-4bdc-e7a3-932daa643e80"
      },
      "source": [
        "import numpy as np\n",
        "train[\"has_collection\"] = train[\"belongs_to_collection\"].apply(lambda x: 0 if x is np.nan else 1)\n",
        "test[\"has_collection\"] = test[\"belongs_to_collection\"].apply(lambda x: 0 if x is np.nan else 1)\n",
        "\n",
        "train[\"has_homepage\"] = train[\"homepage\"].apply(lambda x: 0 if x is np.nan else 1)\n",
        "test[\"has_homepage\"] = test[\"homepage\"].apply(lambda x: 0 if x is np.nan else 1)\n",
        "\n",
        "train[\"crew_count\"] = train[\"crew\"].apply(lambda x: 0 if x is np.nan else x.count('{'))\n",
        "test[\"crew_count\"] = test[\"crew\"].apply(lambda x: 0 if x is np.nan else x.count('{'))\n",
        "\n",
        "train[\"cast_count\"] = train[\"cast\"].apply(lambda x: 0 if x is np.nan else x.count('{'))\n",
        "test[\"cast_count\"] = test[\"cast\"].apply(lambda x: 0 if x is np.nan else x.count('{'))\n",
        "\n",
        "train[\"cast_count\"].head(3)"
      ],
      "execution_count": null,
      "outputs": [
        {
          "output_type": "execute_result",
          "data": {
            "text/plain": [
              "0    24\n",
              "1    20\n",
              "2    51\n",
              "Name: cast_count, dtype: int64"
            ]
          },
          "metadata": {},
          "execution_count": 13
        }
      ]
    },
    {
      "cell_type": "markdown",
      "metadata": {
        "id": "5QAhOrHpVmxT"
      },
      "source": [
        "## Correlation Matrix\n",
        "Since we have converted some objects to floats we want to test the influcence of the new attributes on the revenue. "
      ]
    },
    {
      "cell_type": "code",
      "metadata": {
        "colab": {
          "base_uri": "https://localhost:8080/"
        },
        "id": "YT0csWvwXGQM",
        "outputId": "2c7d58e2-74f3-4529-de48-787e839dd882"
      },
      "source": [
        "corr_matrix = train.corr()\n",
        "corr_matrix[\"revenue\"].sort_values(ascending=False)"
      ],
      "execution_count": null,
      "outputs": [
        {
          "output_type": "execute_result",
          "data": {
            "text/plain": [
              "revenue           1.000000\n",
              "budget            0.752965\n",
              "popularity        0.461460\n",
              "crew_count        0.372110\n",
              "has_collection    0.339425\n",
              "cast_count        0.335737\n",
              "has_homepage      0.263179\n",
              "runtime           0.216380\n",
              "is_english        0.142130\n",
              "id                0.000610\n",
              "Name: revenue, dtype: float64"
            ]
          },
          "metadata": {},
          "execution_count": 14
        }
      ]
    },
    {
      "cell_type": "markdown",
      "metadata": {
        "id": "PseT3N8IXMIl"
      },
      "source": [
        "We analyse the matrix and look for opportunities to improve the scores. We decided to combine the attributes crew_count and cast_count."
      ]
    },
    {
      "cell_type": "code",
      "metadata": {
        "id": "D69ffZ0iOqSW"
      },
      "source": [
        "#Adding the values of crew_count and cast_count in a new attribute\n",
        "sum_list_train = []\n",
        "for (item1, item2) in zip(train[\"crew_count\"], train[\"cast_count\"]):\n",
        "\n",
        "  sum_list_train.append(item1+item2)\n"
      ],
      "execution_count": null,
      "outputs": []
    },
    {
      "cell_type": "code",
      "metadata": {
        "id": "K3DGG9dtq8al"
      },
      "source": [
        "sum_list_test = []\n",
        "for (item1, item2) in zip(test[\"crew_count\"], test[\"cast_count\"]):\n",
        "\n",
        "  sum_list_test.append(item1+item2)\n"
      ],
      "execution_count": null,
      "outputs": []
    },
    {
      "cell_type": "code",
      "metadata": {
        "id": "40pXtjqYS8ly"
      },
      "source": [
        "train[\"crewcast_total\"] = sum_list_train;\n",
        "test[\"crewcast_total\"] = sum_list_test"
      ],
      "execution_count": null,
      "outputs": []
    },
    {
      "cell_type": "code",
      "metadata": {
        "colab": {
          "base_uri": "https://localhost:8080/"
        },
        "id": "QVVEMxQ1UEoq",
        "outputId": "9bcf2830-5feb-472e-925a-4395aba0efa5"
      },
      "source": [
        "corr_matrix = train.corr()\n",
        "corr_matrix[\"revenue\"].sort_values(ascending=False)"
      ],
      "execution_count": null,
      "outputs": [
        {
          "output_type": "execute_result",
          "data": {
            "text/plain": [
              "revenue           1.000000\n",
              "budget            0.752965\n",
              "popularity        0.461460\n",
              "crewcast_total    0.425115\n",
              "crew_count        0.372110\n",
              "has_collection    0.339425\n",
              "cast_count        0.335737\n",
              "has_homepage      0.263179\n",
              "runtime           0.216380\n",
              "is_english        0.142130\n",
              "id                0.000610\n",
              "Name: revenue, dtype: float64"
            ]
          },
          "metadata": {},
          "execution_count": 18
        }
      ]
    },
    {
      "cell_type": "markdown",
      "metadata": {
        "id": "PZlEmP7_eQdS"
      },
      "source": [
        "We remove all the objects from the set before passing it into the transformation pipeline since our models only works with numbers."
      ]
    },
    {
      "cell_type": "code",
      "metadata": {
        "id": "epWQbSGfeIGE"
      },
      "source": [
        "train_labels = train[\"revenue\"].copy()\n",
        "train = train.drop(\"revenue\", axis=1)\n",
        "\n",
        "#train = train.drop(\"cast_count\", axis=1)\n",
        "#train = train.drop(\"crew_count\", axis=1)\n",
        "train = train.drop(\"has_homepage\", axis=1)\n",
        "\n",
        "test = test.drop(\"has_homepage\", axis=1)\n",
        "#test = test.drop(\"cast_count\", axis=1)\n",
        "#test = test.drop(\"crew_count\", axis=1)\n",
        "\n",
        "train = train.drop(\"crewcast_total\", axis=1)\n",
        "\n",
        "df = pd.DataFrame(train)\n",
        "df = df.select_dtypes(exclude=['object'])\n",
        "train_num = df.drop('id', axis=1)\n",
        "\n",
        "\n",
        "df_test = pd.DataFrame(test)\n",
        "df_test = df_test.select_dtypes(exclude=['object'])\n",
        "test_num = df_test.drop('id', axis=1)"
      ],
      "execution_count": null,
      "outputs": []
    },
    {
      "cell_type": "markdown",
      "metadata": {
        "id": "Dn5v_nX4evMA"
      },
      "source": [
        "## Transformation Pipeline\n"
      ]
    },
    {
      "cell_type": "code",
      "metadata": {
        "id": "Hksx0BJRey0Z"
      },
      "source": [
        "train_num_attribs = list(train_num)\n",
        "test_num_attribs = list(test_num)"
      ],
      "execution_count": null,
      "outputs": []
    },
    {
      "cell_type": "code",
      "metadata": {
        "id": "NbHRmoAAe8Ih"
      },
      "source": [
        "train_num.head(5);"
      ],
      "execution_count": null,
      "outputs": []
    },
    {
      "cell_type": "code",
      "metadata": {
        "id": "FW7INon8fCWv"
      },
      "source": [
        "test_num.head(5);"
      ],
      "execution_count": null,
      "outputs": []
    },
    {
      "cell_type": "code",
      "metadata": {
        "id": "SxShej95fV_z"
      },
      "source": [
        "from sklearn.impute import SimpleImputer \n",
        "imputer = SimpleImputer(strategy=\"median\")\n",
        "imputer.fit(train_num);"
      ],
      "execution_count": null,
      "outputs": []
    },
    {
      "cell_type": "code",
      "metadata": {
        "id": "QRnRNGYKgCFB"
      },
      "source": [
        "from sklearn.pipeline import Pipeline\n",
        "from sklearn.preprocessing import StandardScaler\n",
        "num_pipeline = Pipeline([\n",
        "        ('imputer', SimpleImputer(strategy=\"median\")),\n",
        "        ('std_scaler', StandardScaler()),\n",
        "    ])"
      ],
      "execution_count": null,
      "outputs": []
    },
    {
      "cell_type": "code",
      "metadata": {
        "id": "gEYhUMyLgH_R",
        "colab": {
          "base_uri": "https://localhost:8080/"
        },
        "outputId": "ce5cc8b1-fdc2-4277-fb96-48019a3e2f13"
      },
      "source": [
        "from sklearn.compose import ColumnTransformer \n",
        "from sklearn.preprocessing import OneHotEncoder\n",
        "num_attribs = list(train_num)\n",
        "full_pipeline = ColumnTransformer([\n",
        "        (\"num\", num_pipeline, num_attribs),\n",
        "    ])\n",
        "train_num_tr = full_pipeline.fit_transform(train_num)\n",
        "\n",
        "\n",
        "test_num_tr = full_pipeline.transform(test_num)"
      ],
      "execution_count": null,
      "outputs": [
        {
          "output_type": "stream",
          "name": "stderr",
          "text": [
            "/usr/local/lib/python3.7/dist-packages/sklearn/compose/_column_transformer.py:430: FutureWarning: Given feature/column names or counts do not match the ones for the data given during fit. This will fail from v0.24.\n",
            "  FutureWarning)\n"
          ]
        }
      ]
    },
    {
      "cell_type": "markdown",
      "metadata": {
        "id": "YKNpJFJ7gP9v"
      },
      "source": [
        "## Testing different training alogrithms"
      ]
    },
    {
      "cell_type": "code",
      "metadata": {
        "id": "ZRVrGHDxgY3W"
      },
      "source": [
        "X = train_num_tr\n",
        "y = train_labels\n"
      ],
      "execution_count": null,
      "outputs": []
    },
    {
      "cell_type": "code",
      "metadata": {
        "id": "5xxW5pHKgnYW",
        "colab": {
          "base_uri": "https://localhost:8080/"
        },
        "outputId": "ab7e4fb4-c81f-4a1d-98b8-36f30aee80e7"
      },
      "source": [
        "from sklearn.linear_model import LinearRegression \n",
        "lin_reg = LinearRegression()\n",
        "lin_reg.fit(X, y)"
      ],
      "execution_count": null,
      "outputs": [
        {
          "output_type": "execute_result",
          "data": {
            "text/plain": [
              "LinearRegression(copy_X=True, fit_intercept=True, n_jobs=None, normalize=False)"
            ]
          },
          "metadata": {},
          "execution_count": 27
        }
      ]
    },
    {
      "cell_type": "code",
      "metadata": {
        "id": "LilMAD6wgt_c",
        "colab": {
          "base_uri": "https://localhost:8080/"
        },
        "outputId": "0c02d268-8db7-419e-ee03-87f3a931cf26"
      },
      "source": [
        "from sklearn.ensemble import RandomForestRegressor\n",
        "forest_reg = RandomForestRegressor(random_state=69)\n",
        "forest_reg.fit(X, y)"
      ],
      "execution_count": null,
      "outputs": [
        {
          "output_type": "execute_result",
          "data": {
            "text/plain": [
              "RandomForestRegressor(bootstrap=True, ccp_alpha=0.0, criterion='mse',\n",
              "                      max_depth=None, max_features='auto', max_leaf_nodes=None,\n",
              "                      max_samples=None, min_impurity_decrease=0.0,\n",
              "                      min_impurity_split=None, min_samples_leaf=1,\n",
              "                      min_samples_split=2, min_weight_fraction_leaf=0.0,\n",
              "                      n_estimators=100, n_jobs=None, oob_score=False,\n",
              "                      random_state=69, verbose=0, warm_start=False)"
            ]
          },
          "metadata": {},
          "execution_count": 28
        }
      ]
    },
    {
      "cell_type": "code",
      "metadata": {
        "id": "AAulW4GVg2df",
        "colab": {
          "base_uri": "https://localhost:8080/"
        },
        "outputId": "058647a4-0732-4572-e88a-fc997c498051"
      },
      "source": [
        "from sklearn.metrics import mean_squared_error\n",
        "lin_predictions = lin_reg.predict(X)\n",
        "lin_mse = mean_squared_error(y, lin_predictions)\n",
        "lin_rmse = np.sqrt(lin_mse)\n",
        "lin_rmse"
      ],
      "execution_count": null,
      "outputs": [
        {
          "output_type": "execute_result",
          "data": {
            "text/plain": [
              "82120347.7870515"
            ]
          },
          "metadata": {},
          "execution_count": 29
        }
      ]
    },
    {
      "cell_type": "code",
      "metadata": {
        "id": "Myn_Cqg0izLs",
        "colab": {
          "base_uri": "https://localhost:8080/"
        },
        "outputId": "53558967-11be-43d2-bd05-1388af9af7f5"
      },
      "source": [
        "from sklearn.ensemble import RandomForestRegressor\n",
        "forest_reg = RandomForestRegressor(random_state=69)\n",
        "forest_reg.fit(X, y)"
      ],
      "execution_count": null,
      "outputs": [
        {
          "output_type": "execute_result",
          "data": {
            "text/plain": [
              "RandomForestRegressor(bootstrap=True, ccp_alpha=0.0, criterion='mse',\n",
              "                      max_depth=None, max_features='auto', max_leaf_nodes=None,\n",
              "                      max_samples=None, min_impurity_decrease=0.0,\n",
              "                      min_impurity_split=None, min_samples_leaf=1,\n",
              "                      min_samples_split=2, min_weight_fraction_leaf=0.0,\n",
              "                      n_estimators=100, n_jobs=None, oob_score=False,\n",
              "                      random_state=69, verbose=0, warm_start=False)"
            ]
          },
          "metadata": {},
          "execution_count": 30
        }
      ]
    },
    {
      "cell_type": "code",
      "metadata": {
        "id": "VxM9PFCYi8tG",
        "colab": {
          "base_uri": "https://localhost:8080/"
        },
        "outputId": "6ceffe16-f416-4dbf-8d01-18b71930df77"
      },
      "source": [
        "forest_reg_predictions = forest_reg.predict(X)\n",
        "forest_mse = mean_squared_error(y, forest_reg_predictions)\n",
        "forest_rmse = np.sqrt(forest_mse)\n",
        "forest_rmse"
      ],
      "execution_count": null,
      "outputs": [
        {
          "output_type": "execute_result",
          "data": {
            "text/plain": [
              "30025561.721004225"
            ]
          },
          "metadata": {},
          "execution_count": 31
        }
      ]
    },
    {
      "cell_type": "markdown",
      "metadata": {
        "id": "8ztMv6_ype8j"
      },
      "source": [
        "## Fine tuning\n"
      ]
    },
    {
      "cell_type": "code",
      "metadata": {
        "id": "TJzhkZNwplLn",
        "colab": {
          "base_uri": "https://localhost:8080/"
        },
        "outputId": "79bd2f8c-b3e0-46bb-9029-d8968fa6e8f9"
      },
      "source": [
        "from sklearn.model_selection import RandomizedSearchCV\n",
        "from scipy.stats import randint\n",
        "\n",
        "param_distribs = {\n",
        "        'n_estimators': randint(low=1, high=200),\n",
        "        'max_features': randint(low=1, high=7),\n",
        "        'n_jobs': [-1]\n",
        "    }\n",
        "\n",
        "forest_reg = RandomForestRegressor(random_state=69)\n",
        "\n",
        "rnd_search = RandomizedSearchCV(\n",
        "                forest_reg, \n",
        "                param_distributions=param_distribs,\n",
        "                n_iter=10, \n",
        "                cv=5, \n",
        "                scoring='neg_mean_squared_error', \n",
        "                random_state=69\n",
        "            )\n",
        "\n",
        "rnd_search.fit(X, y)"
      ],
      "execution_count": null,
      "outputs": [
        {
          "output_type": "execute_result",
          "data": {
            "text/plain": [
              "RandomizedSearchCV(cv=5, error_score=nan,\n",
              "                   estimator=RandomForestRegressor(bootstrap=True,\n",
              "                                                   ccp_alpha=0.0,\n",
              "                                                   criterion='mse',\n",
              "                                                   max_depth=None,\n",
              "                                                   max_features='auto',\n",
              "                                                   max_leaf_nodes=None,\n",
              "                                                   max_samples=None,\n",
              "                                                   min_impurity_decrease=0.0,\n",
              "                                                   min_impurity_split=None,\n",
              "                                                   min_samples_leaf=1,\n",
              "                                                   min_samples_split=2,\n",
              "                                                   min_weight_fraction_leaf=0.0,\n",
              "                                                   n_estimators=100,\n",
              "                                                   n_jobs=None, oob_score=Fals...\n",
              "                   iid='deprecated', n_iter=10, n_jobs=None,\n",
              "                   param_distributions={'max_features': <scipy.stats._distn_infrastructure.rv_frozen object at 0x7fbb110d4fd0>,\n",
              "                                        'n_estimators': <scipy.stats._distn_infrastructure.rv_frozen object at 0x7fbb110d4a50>,\n",
              "                                        'n_jobs': [-1]},\n",
              "                   pre_dispatch='2*n_jobs', random_state=69, refit=True,\n",
              "                   return_train_score=False, scoring='neg_mean_squared_error',\n",
              "                   verbose=0)"
            ]
          },
          "metadata": {},
          "execution_count": 32
        }
      ]
    },
    {
      "cell_type": "code",
      "metadata": {
        "id": "PVwzNbPzqDPk",
        "colab": {
          "base_uri": "https://localhost:8080/"
        },
        "outputId": "f628d3f7-0f38-45a7-9471-92a6f997f61b"
      },
      "source": [
        "cvres = rnd_search.cv_results_\n",
        "for mean_score, params in zip(cvres[\"mean_test_score\"], cvres[\"params\"]):\n",
        "    print(np.sqrt(-mean_score), params)"
      ],
      "execution_count": null,
      "outputs": [
        {
          "output_type": "stream",
          "name": "stdout",
          "text": [
            "78199383.43982348 {'max_features': 4, 'n_estimators': 108, 'n_jobs': -1}\n",
            "77686143.39231473 {'max_features': 3, 'n_estimators': 184, 'n_jobs': -1}\n",
            "78400570.68203758 {'max_features': 5, 'n_estimators': 50, 'n_jobs': -1}\n",
            "78224632.92540301 {'max_features': 2, 'n_estimators': 185, 'n_jobs': -1}\n",
            "79227112.7879313 {'max_features': 2, 'n_estimators': 39, 'n_jobs': -1}\n",
            "79075444.80422239 {'max_features': 1, 'n_estimators': 89, 'n_jobs': -1}\n",
            "78195400.75567576 {'max_features': 5, 'n_estimators': 166, 'n_jobs': -1}\n",
            "77733179.94725773 {'max_features': 3, 'n_estimators': 76, 'n_jobs': -1}\n",
            "88696772.07183877 {'max_features': 6, 'n_estimators': 4, 'n_jobs': -1}\n",
            "79282239.86615768 {'max_features': 1, 'n_estimators': 168, 'n_jobs': -1}\n"
          ]
        }
      ]
    },
    {
      "cell_type": "code",
      "metadata": {
        "id": "H2SGqa-70Z2h",
        "colab": {
          "base_uri": "https://localhost:8080/"
        },
        "outputId": "39f780e2-8429-4a22-ab66-d7f221c53968"
      },
      "source": [
        "feature_importances = rnd_search.best_estimator_.feature_importances_\n",
        "feature_importances"
      ],
      "execution_count": null,
      "outputs": [
        {
          "output_type": "execute_result",
          "data": {
            "text/plain": [
              "array([0.45166635, 0.23189044, 0.09088436, 0.00289836, 0.06112424,\n",
              "       0.07895907, 0.08257717])"
            ]
          },
          "metadata": {},
          "execution_count": 34
        }
      ]
    },
    {
      "cell_type": "code",
      "metadata": {
        "id": "07pnvfN80dib",
        "colab": {
          "base_uri": "https://localhost:8080/"
        },
        "outputId": "56400ea7-0c13-4b11-8ef1-af6c992d397c"
      },
      "source": [
        "sorted(zip(feature_importances, num_attribs), reverse=True)"
      ],
      "execution_count": null,
      "outputs": [
        {
          "output_type": "execute_result",
          "data": {
            "text/plain": [
              "[(0.45166634623324964, 'budget'),\n",
              " (0.2318904360840868, 'popularity'),\n",
              " (0.09088436499588295, 'runtime'),\n",
              " (0.08257717242378496, 'cast_count'),\n",
              " (0.07895907385805255, 'crew_count'),\n",
              " (0.06112424426151302, 'has_collection'),\n",
              " (0.0028983621434300576, 'is_english')]"
            ]
          },
          "metadata": {},
          "execution_count": 35
        }
      ]
    },
    {
      "cell_type": "code",
      "metadata": {
        "id": "HywX4YOy0ydc",
        "colab": {
          "base_uri": "https://localhost:8080/"
        },
        "outputId": "5a32af7f-e338-4c3b-9dae-d347bdaebe37"
      },
      "source": [
        "rnd_search.best_params_"
      ],
      "execution_count": null,
      "outputs": [
        {
          "output_type": "execute_result",
          "data": {
            "text/plain": [
              "{'max_features': 3, 'n_estimators': 184, 'n_jobs': -1}"
            ]
          },
          "metadata": {},
          "execution_count": 36
        }
      ]
    },
    {
      "cell_type": "markdown",
      "metadata": {
        "id": "yDb4zOG10qoZ"
      },
      "source": [
        "## Final model"
      ]
    },
    {
      "cell_type": "code",
      "metadata": {
        "id": "CTxanma50pkU",
        "colab": {
          "base_uri": "https://localhost:8080/"
        },
        "outputId": "03344d18-32a9-4e1a-ab34-fc7c26c4e856"
      },
      "source": [
        "final_model = rnd_search.best_estimator_\n",
        "final_predictions_S =  final_model.predict(test_num_tr)\n",
        "\n",
        "print(final_predictions_S)"
      ],
      "execution_count": null,
      "outputs": [
        {
          "output_type": "stream",
          "name": "stdout",
          "text": [
            "[1.36260404e+07 3.77255023e+06 1.26293700e+07 ... 5.05925089e+07\n",
            " 1.11042700e+08 2.43551925e+07]\n"
          ]
        }
      ]
    },
    {
      "cell_type": "code",
      "metadata": {
        "id": "b4Et4T971FCS",
        "colab": {
          "base_uri": "https://localhost:8080/"
        },
        "outputId": "aaefcb99-99ca-44b6-9830-1654cdc35537"
      },
      "source": [
        "len(final_predictions_S)"
      ],
      "execution_count": null,
      "outputs": [
        {
          "output_type": "execute_result",
          "data": {
            "text/plain": [
              "4398"
            ]
          },
          "metadata": {},
          "execution_count": 38
        }
      ]
    },
    {
      "cell_type": "code",
      "metadata": {
        "id": "2YoM3-AQ1KJL"
      },
      "source": [
        "submission = pd.DataFrame({\n",
        "    'id': test_id,\n",
        "    'revenue': final_predictions_S\n",
        "})"
      ],
      "execution_count": null,
      "outputs": []
    },
    {
      "cell_type": "code",
      "metadata": {
        "id": "RHQsAZjN1bUo",
        "colab": {
          "base_uri": "https://localhost:8080/",
          "height": 203
        },
        "outputId": "19278d17-424d-4c66-962c-db57a5ff01cc"
      },
      "source": [
        "submission.head()"
      ],
      "execution_count": null,
      "outputs": [
        {
          "output_type": "execute_result",
          "data": {
            "text/html": [
              "<div>\n",
              "<style scoped>\n",
              "    .dataframe tbody tr th:only-of-type {\n",
              "        vertical-align: middle;\n",
              "    }\n",
              "\n",
              "    .dataframe tbody tr th {\n",
              "        vertical-align: top;\n",
              "    }\n",
              "\n",
              "    .dataframe thead th {\n",
              "        text-align: right;\n",
              "    }\n",
              "</style>\n",
              "<table border=\"1\" class=\"dataframe\">\n",
              "  <thead>\n",
              "    <tr style=\"text-align: right;\">\n",
              "      <th></th>\n",
              "      <th>id</th>\n",
              "      <th>revenue</th>\n",
              "    </tr>\n",
              "  </thead>\n",
              "  <tbody>\n",
              "    <tr>\n",
              "      <th>0</th>\n",
              "      <td>3001</td>\n",
              "      <td>1.362604e+07</td>\n",
              "    </tr>\n",
              "    <tr>\n",
              "      <th>1</th>\n",
              "      <td>3002</td>\n",
              "      <td>3.772550e+06</td>\n",
              "    </tr>\n",
              "    <tr>\n",
              "      <th>2</th>\n",
              "      <td>3003</td>\n",
              "      <td>1.262937e+07</td>\n",
              "    </tr>\n",
              "    <tr>\n",
              "      <th>3</th>\n",
              "      <td>3004</td>\n",
              "      <td>5.071213e+07</td>\n",
              "    </tr>\n",
              "    <tr>\n",
              "      <th>4</th>\n",
              "      <td>3005</td>\n",
              "      <td>4.678645e+06</td>\n",
              "    </tr>\n",
              "  </tbody>\n",
              "</table>\n",
              "</div>"
            ],
            "text/plain": [
              "     id       revenue\n",
              "0  3001  1.362604e+07\n",
              "1  3002  3.772550e+06\n",
              "2  3003  1.262937e+07\n",
              "3  3004  5.071213e+07\n",
              "4  3005  4.678645e+06"
            ]
          },
          "metadata": {},
          "execution_count": 40
        }
      ]
    },
    {
      "cell_type": "markdown",
      "metadata": {
        "id": "lHHWw5aD5thb"
      },
      "source": [
        "##Final Predictions\n",
        "For our first submission, we started by looking at which of the attributes were most relevant for a movie's total revenue. Since some of the attributes were objects, we had to turn them into numerical attributes, after which we made a corrolation matrix to see which attributes had the most impact on the revenue. Then we got rid of the attributes we deemed irrelevant and began trying a few models on it. After finding the model we thought gave the best score, we ran it on the test set and submitted it on Kaggle, which led to a score of 2.64464.\n",
        "\n",
        "For our second submission, we tried dropping has_homepage from the training set and that got us down to a score of 2.63913.\n"
      ]
    },
    {
      "cell_type": "code",
      "metadata": {
        "id": "LuH-WFFs1uFK"
      },
      "source": [
        "submission.to_csv('drive/MyDrive/ML2/submission.csv', index=False)"
      ],
      "execution_count": null,
      "outputs": []
    },
    {
      "cell_type": "markdown",
      "metadata": {
        "id": "Y9Zhss7kBOYU"
      },
      "source": [
        "## Export Model "
      ]
    },
    {
      "cell_type": "code",
      "metadata": {
        "id": "VZqwtNwnBRvA",
        "colab": {
          "base_uri": "https://localhost:8080/"
        },
        "outputId": "77393e83-49a0-4ba7-d404-4c10b9174a12"
      },
      "source": [
        "from joblib import dump\n",
        "dump(final_model, 'drive/MyDrive/ML2/TMDB_fr.joblib', compress=6)"
      ],
      "execution_count": null,
      "outputs": [
        {
          "output_type": "execute_result",
          "data": {
            "text/plain": [
              "['drive/MyDrive/ML2/TMDB_fr.joblib']"
            ]
          },
          "metadata": {},
          "execution_count": 42
        }
      ]
    }
  ]
}